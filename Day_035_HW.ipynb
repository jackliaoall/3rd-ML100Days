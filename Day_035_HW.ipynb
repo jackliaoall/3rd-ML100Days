{
 "cells": [
  {
   "cell_type": "markdown",
   "metadata": {},
   "source": [
    "## 練習時間\n",
    "相信大家對回歸問題及分類問題都有初步的了解。今天的作業希望大家搜尋有關 multi-label 的案例問題。下圖是電影 \"奇異博士\" 的分類。可以看到同時有 \"Action\", \"Adventure\", \"Fantasy\" 的類別存在，代表這是個多標籤的問題。 "
   ]
  },
  {
   "cell_type": "markdown",
   "metadata": {},
   "source": [
    "![image](https://cdn-images-1.medium.com/max/1000/1*r0gYXMSQf5VhdMyl2bRDyg.png)"
   ]
  },
  {
   "cell_type": "markdown",
   "metadata": {},
   "source": [
    "## 請搜尋目標為多標籤問題 (Multi-label) 的機器學習案例，了解其資料來源、目標以及評估指標為何\n",
    "## Hint: 服飾"
   ]
  },
  {
   "cell_type": "code",
   "execution_count": null,
   "metadata": {},
   "outputs": [],
   "source": [
    "案例: Multi-Label Fashion Image Classification with Minimal Human Supervision \n",
    "    (https://esslab.jp/publications/InoueICCVW2017.pdf) \n",
    "\n",
    "資料來源: 由 Chictopia 蒐集上百萬張時裝的影像, 加上前人建立的 Fashion144k , \n",
    "    最後自其中隨機抽取5300張影像 (Dataset available at http://hi.cs.waseda.ac.jp/˜esimo/data/fashion550k/.)\n",
    "\n",
    "目標: 藉由淨化標籤增加機器學習及預測的效率 (In this paper, our goal is to \n",
    "                        train a multi-label image classifier on a large dataset with extremely noisy labels, where additionally a small subset of the dataset that has human-verified labels available.)\n",
    "\n",
    "評估指標: 使用5300張verified images, 作者使用 class-agnostic average precision \n",
    "    (APall) 以及 mean of the each class-average precision (mAP) are used 做為評估指標 evaluation metrics"
   ]
  }
 ],
 "metadata": {
  "kernelspec": {
   "display_name": "Python 3",
   "language": "python",
   "name": "python3"
  },
  "language_info": {
   "codemirror_mode": {
    "name": "ipython",
    "version": 3
   },
   "file_extension": ".py",
   "mimetype": "text/x-python",
   "name": "python",
   "nbconvert_exporter": "python",
   "pygments_lexer": "ipython3",
   "version": "3.6.4"
  }
 },
 "nbformat": 4,
 "nbformat_minor": 2
}
