{
 "cells": [
  {
   "cell_type": "markdown",
   "metadata": {},
   "source": [
    "## [作業目標]\n",
    "了解機器學習適合應用的領域與範疇。"
   ]
  },
  {
   "cell_type": "markdown",
   "metadata": {},
   "source": [
    "## [作業重點]\n",
    "透過瞭解機器學習的運作方式，找出非常適用機器學習應用的領域及其原因"
   ]
  },
  {
   "cell_type": "markdown",
   "metadata": {},
   "source": [
    "# 作業\n",
    "請找出一個你認為機器學習可以發光發熱的領域並闡述原因? \n",
    "\n",
    "=>這個可以發光發熱的領域是自動駕駛技術\n",
    "\n",
    "(1)無人駕駛汽車利用感測器、訊號處理、機器視覺、電腦運算、機器學習等技術，辨識汽車所處的環境和狀態，並根據所獲得的道路、交通號誌、車輛位置和障礙物等數據做出分析和判斷，由主控電腦控制車輛轉向和速度，從而實現無人駕駛車輛依據自身意圖和環境的擬人駕駛。 (來源： 維基百科、百度百科)\n",
    "\n",
    "(2)美國市調機構 Navigant Research 公布最新的自駕車排名，Waymo、通用、福特分別以 86.7、86.6 和 84.2 分佔據三強。\n",
    "\n",
    "前十名分別為:\n",
    "1.Waymo\n",
    "2.GM（通用汽車）Cruise\n",
    "3.福特\n",
    "4.APTIV（德爾福公司）\n",
    "5.英特爾 Mobileye\n",
    "6.大眾汽車集團\n",
    "7.戴姆勒（Daimler）、 博世（Bosch）\n",
    "8.百度\n",
    "9.豐田\n",
    "10.雷諾 – 日產 – 三菱聯盟"
   ]
  },
  {
   "cell_type": "code",
   "execution_count": null,
   "metadata": {},
   "outputs": [],
   "source": []
  }
 ],
 "metadata": {
  "kernelspec": {
   "display_name": "Python 3",
   "language": "python",
   "name": "python3"
  },
  "language_info": {
   "codemirror_mode": {
    "name": "ipython",
    "version": 3
   },
   "file_extension": ".py",
   "mimetype": "text/x-python",
   "name": "python",
   "nbconvert_exporter": "python",
   "pygments_lexer": "ipython3",
   "version": "3.6.4"
  }
 },
 "nbformat": 4,
 "nbformat_minor": 2
}
